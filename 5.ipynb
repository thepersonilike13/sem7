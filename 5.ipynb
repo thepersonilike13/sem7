{
 "cells": [
  {
   "cell_type": "code",
   "execution_count": null,
   "id": "9fb014f6",
   "metadata": {},
   "outputs": [],
   "source": [
    "import cv2\n",
    "\n",
    "# Open webcam (0 = default camera)\n",
    "cap = cv2.VideoCapture('video.mp4')\n",
    "while True:\n",
    "    ret, frame = cap.read()\n",
    "    if not ret:\n",
    "        break\n",
    "\n",
    "    # Convert to grayscale\n",
    "    gray = cv2.cvtColor(frame, cv2.COLOR_BGR2GRAY)\n",
    "\n",
    "    # Apply Gaussian Blur\n",
    "    blur = cv2.GaussianBlur(gray, (5, 5), 0)\n",
    "\n",
    "    edges = cv2.Canny(blur, 50, 150)\n",
    "\n",
    "    # Show original and processed frames\n",
    "    cv2.imshow('Original', frame)\n",
    "    cv2.imshow('Blurred Grayscale', blur)\n",
    "    cv2.imshow('Edges', edges)\n",
    "\n",
    "    # Exit when 'q' key is pressed\n",
    "    if cv2.waitKey(1) & 0xFF == ord('q'):\n",
    "        break\n",
    "\n",
    "cap.release()\n",
    "cv2.destroyAllWindows()\n"
   ]
  }
 ],
 "metadata": {
  "language_info": {
   "name": "python"
  }
 },
 "nbformat": 4,
 "nbformat_minor": 5
}
