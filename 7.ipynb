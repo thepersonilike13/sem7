{
 "cells": [
  {
   "cell_type": "code",
   "execution_count": null,
   "id": "9f55e684",
   "metadata": {},
   "outputs": [],
   "source": [
    "!pip install torch transformers soundfile librosa gensim\n",
    "!sudo apt install ffmpeg -y\n"
   ]
  },
  {
   "cell_type": "code",
   "execution_count": null,
   "id": "73fef330",
   "metadata": {},
   "outputs": [],
   "source": [
    "# Install dependencies (run once)\n",
    "# pip install torch torchaudio transformers\n",
    "\n",
    "import torch\n",
    "import torchaudio\n",
    "from transformers import Wav2Vec2ForCTC, Wav2Vec2Tokenizer\n",
    "\n",
    "# Step 1: Load pre-trained Wav2Vec2 model and tokenizer\n",
    "tokenizer = Wav2Vec2Tokenizer.from_pretrained(\"facebook/wav2vec2-base-960h\")\n",
    "model = Wav2Vec2ForCTC.from_pretrained(\"facebook/wav2vec2-base-960h\")\n",
    "\n",
    "# Step 2: Load audio file\n",
    "def load_audio(file_path):\n",
    "    waveform, sample_rate = torchaudio.load(file_path)\n",
    "    return waveform, sample_rate\n",
    "\n",
    "# Step 3: Resample audio if needed\n",
    "def preprocess_audio(waveform, sample_rate):\n",
    "    if sample_rate != 16000:\n",
    "        resampler = torchaudio.transforms.Resample(orig_freq=sample_rate, new_freq=16000)\n",
    "        waveform = resampler(waveform)\n",
    "    return waveform\n",
    "\n",
    "# Step 4: Convert speech → text\n",
    "def speech_to_text(wav_file):\n",
    "    waveform, sample_rate = load_audio(wav_file)\n",
    "    waveform = preprocess_audio(waveform, sample_rate)\n",
    "\n",
    "    inputs = tokenizer(waveform.squeeze().numpy(), return_tensors=\"pt\", padding=True)\n",
    "    with torch.no_grad():\n",
    "        logits = model(inputs.input_values).logits\n",
    "\n",
    "    predicted_ids = torch.argmax(logits, dim=-1)\n",
    "    transcription = tokenizer.decode(predicted_ids[0])\n",
    "    return transcription.lower()\n",
    "\n",
    "# Step 5: Run on your file\n",
    "wav_file = \"1.wav\"  # Replace with your own .wav file\n",
    "text = speech_to_text(wav_file)\n",
    "print(\" Transcription:\", text)\n"
   ]
  }
 ],
 "metadata": {
  "language_info": {
   "name": "python"
  }
 },
 "nbformat": 4,
 "nbformat_minor": 5
}
