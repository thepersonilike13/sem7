{
 "cells": [
  {
   "cell_type": "code",
   "execution_count": null,
   "id": "6712e585",
   "metadata": {},
   "outputs": [],
   "source": [
    "# !pip install opencv-python matplotlib numpy pandas\n"
   ]
  },
  {
   "cell_type": "code",
   "execution_count": null,
   "id": "40d0639d",
   "metadata": {},
   "outputs": [],
   "source": [
    "import cv2\n",
    "import matplotlib.pyplot as plt\n",
    "\n",
    "# Step 1: Read image\n",
    "img = cv2.imread('image.png')\n",
    "if img is None:\n",
    "    print(\"Error loading image\")\n",
    "    exit()\n",
    "\n",
    "# Step 2: Convert to grayscale\n",
    "gray = cv2.cvtColor(img, cv2.COLOR_BGR2GRAY)\n",
    "\n",
    "# Step 3: Apply Gaussian Blur\n",
    "blur = cv2.GaussianBlur(gray, (5, 5), 0)\n",
    "\n",
    "# Step 4: Edge Detection (Canny)\n",
    "edges = cv2.Canny(blur, 50, 150)\n",
    "\n",
    "# Step 5: Display using matplotlib\n",
    "titles = ['Original', 'Grayscale', 'Blurred', 'Edges']\n",
    "images = [cv2.cvtColor(img, cv2.COLOR_BGR2RGB), gray, blur, edges]\n",
    "\n",
    "plt.figure(figsize=(8, 8))\n",
    "for i in range(4):\n",
    "    plt.subplot(2, 2, i + 1)\n",
    "    cmap = 'gray' if i != 0 else None\n",
    "    plt.imshow(images[i], cmap=cmap)\n",
    "    plt.title(titles[i])\n",
    "    plt.axis('off')\n",
    "\n",
    "plt.show()"
   ]
  }
 ],
 "metadata": {
  "language_info": {
   "name": "python"
  }
 },
 "nbformat": 4,
 "nbformat_minor": 5
}
