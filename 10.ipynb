{
 "cells": [
  {
   "cell_type": "code",
   "execution_count": null,
   "id": "57cffe42",
   "metadata": {},
   "outputs": [],
   "source": [
    "import torch\n",
    "import torch.nn.utils.prune as prune\n",
    "import torchvision\n",
    "import torchvision.transforms as transforms\n",
    "import torch.nn.functional as F\n",
    "\n",
    "# ✅ Load pretrained ResNet18\n",
    "model = torchvision.models.resnet18(weights='DEFAULT')\n",
    "model.eval()\n",
    "\n",
    "# ✅ Simple dataset (CIFAR-10 subset for quick eval)\n",
    "transform = transforms.Compose([\n",
    "    transforms.Resize(224),\n",
    "    transforms.ToTensor(),\n",
    "])\n",
    "testset = torchvision.datasets.CIFAR10(root='./data', train=False, download=True, transform=transform)\n",
    "testloader = torch.utils.data.DataLoader(testset, batch_size=32, shuffle=False)\n",
    "\n",
    "# ✅ Apply L1 structured pruning (20%) on all conv layers\n",
    "for name, module in model.named_modules():\n",
    "    if isinstance(module, torch.nn.Conv2d):\n",
    "        prune.ln_structured(module, name=\"weight\", amount=0.2, n=1, dim=0)\n",
    "\n",
    "# ✅ Remove pruning reparameterization to finalize weights\n",
    "for name, module in model.named_modules():\n",
    "    if isinstance(module, torch.nn.Conv2d):\n",
    "        prune.remove(module, 'weight')\n",
    "\n",
    "# ✅ Quick evaluation\n",
    "correct, total = 0, 0\n",
    "with torch.no_grad():\n",
    "    for i, (images, labels) in enumerate(testloader):\n",
    "        outputs = model(images)\n",
    "        _, predicted = torch.max(outputs.data, 1)\n",
    "        total += labels.size(0)\n",
    "        correct += (predicted == labels).sum().item()\n",
    "        if i == 20:  # only a few batches for speed\n",
    "            break\n",
    "\n",
    "print(f\"✅ Pruned model accuracy (approx): {100 * correct / total:.2f}%\")\n"
   ]
  }
 ],
 "metadata": {
  "language_info": {
   "name": "python"
  }
 },
 "nbformat": 4,
 "nbformat_minor": 5
}
